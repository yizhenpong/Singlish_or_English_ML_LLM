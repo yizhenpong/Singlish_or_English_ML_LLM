{
 "cells": [
  {
   "cell_type": "code",
   "execution_count": 72,
   "id": "2f751243",
   "metadata": {},
   "outputs": [],
   "source": [
    "import numpy as np\n",
    "import pandas as pd\n",
    "from sklearn import preprocessing"
   ]
  },
  {
   "cell_type": "markdown",
   "id": "6116f605",
   "metadata": {},
   "source": [
    "读入数据"
   ]
  },
  {
   "cell_type": "code",
   "execution_count": 73,
   "id": "8e8ceb04",
   "metadata": {},
   "outputs": [
    {
     "name": "stdout",
     "output_type": "stream",
     "text": [
      "                                                     Text  Target_Label\n",
      "0                                   Bugis oso near wat...             0\n",
      "1       Go until jurong point, crazy.. Available only ...             0\n",
      "2          I dunno until when... Lets go learn pilates...             0\n",
      "3       Den only weekdays got special price... Haiz......             0\n",
      "4                                  Meet after lunch la...             0\n",
      "...                                                   ...           ...\n",
      "115959                           I am jumping JUMPING!!!!             1\n",
      "115960                      What does all this amount to?             1\n",
      "115961                        A man went fishing one day.             1\n",
      "115962                    I’d do it again in a heartbeat!             1\n",
      "115963       I’m not fond of wearing closed shoes either.             1\n",
      "\n",
      "[115964 rows x 2 columns]\n"
     ]
    }
   ],
   "source": [
    "# 指定文件路径\n",
    "file_path = \"data/final_dataset.txt\"\n",
    "\n",
    "# 读取文本文件到DataFrame\n",
    "data = pd.read_table(file_path)\n",
    "\n",
    "# 显示DataFrame\n",
    "print(data)"
   ]
  },
  {
   "cell_type": "code",
   "execution_count": 74,
   "id": "eb900ffc",
   "metadata": {},
   "outputs": [
    {
     "data": {
      "text/html": [
       "<div>\n",
       "<style scoped>\n",
       "    .dataframe tbody tr th:only-of-type {\n",
       "        vertical-align: middle;\n",
       "    }\n",
       "\n",
       "    .dataframe tbody tr th {\n",
       "        vertical-align: top;\n",
       "    }\n",
       "\n",
       "    .dataframe thead th {\n",
       "        text-align: right;\n",
       "    }\n",
       "</style>\n",
       "<table border=\"1\" class=\"dataframe\">\n",
       "  <thead>\n",
       "    <tr style=\"text-align: right;\">\n",
       "      <th></th>\n",
       "      <th>text</th>\n",
       "      <th>label</th>\n",
       "    </tr>\n",
       "  </thead>\n",
       "  <tbody>\n",
       "    <tr>\n",
       "      <th>0</th>\n",
       "      <td>Bugis oso near wat...</td>\n",
       "      <td>0</td>\n",
       "    </tr>\n",
       "    <tr>\n",
       "      <th>1</th>\n",
       "      <td>Go until jurong point, crazy.. Available only ...</td>\n",
       "      <td>0</td>\n",
       "    </tr>\n",
       "    <tr>\n",
       "      <th>2</th>\n",
       "      <td>I dunno until when... Lets go learn pilates...</td>\n",
       "      <td>0</td>\n",
       "    </tr>\n",
       "    <tr>\n",
       "      <th>3</th>\n",
       "      <td>Den only weekdays got special price... Haiz......</td>\n",
       "      <td>0</td>\n",
       "    </tr>\n",
       "    <tr>\n",
       "      <th>4</th>\n",
       "      <td>Meet after lunch la...</td>\n",
       "      <td>0</td>\n",
       "    </tr>\n",
       "  </tbody>\n",
       "</table>\n",
       "</div>"
      ],
      "text/plain": [
       "                                                text  label\n",
       "0                              Bugis oso near wat...      0\n",
       "1  Go until jurong point, crazy.. Available only ...      0\n",
       "2     I dunno until when... Lets go learn pilates...      0\n",
       "3  Den only weekdays got special price... Haiz......      0\n",
       "4                             Meet after lunch la...      0"
      ]
     },
     "execution_count": 74,
     "metadata": {},
     "output_type": "execute_result"
    }
   ],
   "source": [
    "data.columns = ['text','label']\n",
    "data.head()"
   ]
  },
  {
   "cell_type": "markdown",
   "id": "eacc4137",
   "metadata": {},
   "source": [
    "# 探索式数据分析"
   ]
  },
  {
   "cell_type": "markdown",
   "id": "91dd2e64",
   "metadata": {},
   "source": [
    "清理空缺值"
   ]
  },
  {
   "cell_type": "code",
   "execution_count": 75,
   "id": "48eb702e",
   "metadata": {},
   "outputs": [
    {
     "data": {
      "text/plain": [
       "text     11\n",
       "label     0\n",
       "dtype: int64"
      ]
     },
     "execution_count": 75,
     "metadata": {},
     "output_type": "execute_result"
    }
   ],
   "source": [
    "data.isna().sum()"
   ]
  },
  {
   "cell_type": "code",
   "execution_count": 76,
   "id": "78e943bb",
   "metadata": {},
   "outputs": [],
   "source": [
    "data = data.dropna()"
   ]
  },
  {
   "cell_type": "code",
   "execution_count": 77,
   "id": "e50d2b9a",
   "metadata": {},
   "outputs": [
    {
     "data": {
      "text/html": [
       "<div>\n",
       "<style scoped>\n",
       "    .dataframe tbody tr th:only-of-type {\n",
       "        vertical-align: middle;\n",
       "    }\n",
       "\n",
       "    .dataframe tbody tr th {\n",
       "        vertical-align: top;\n",
       "    }\n",
       "\n",
       "    .dataframe thead th {\n",
       "        text-align: right;\n",
       "    }\n",
       "</style>\n",
       "<table border=\"1\" class=\"dataframe\">\n",
       "  <thead>\n",
       "    <tr style=\"text-align: right;\">\n",
       "      <th></th>\n",
       "      <th>text</th>\n",
       "      <th>label</th>\n",
       "    </tr>\n",
       "  </thead>\n",
       "  <tbody>\n",
       "    <tr>\n",
       "      <th>0</th>\n",
       "      <td>Bugis oso near wat...</td>\n",
       "      <td>0</td>\n",
       "    </tr>\n",
       "    <tr>\n",
       "      <th>1</th>\n",
       "      <td>Go until jurong point, crazy.. Available only ...</td>\n",
       "      <td>0</td>\n",
       "    </tr>\n",
       "    <tr>\n",
       "      <th>2</th>\n",
       "      <td>I dunno until when... Lets go learn pilates...</td>\n",
       "      <td>0</td>\n",
       "    </tr>\n",
       "    <tr>\n",
       "      <th>3</th>\n",
       "      <td>Den only weekdays got special price... Haiz......</td>\n",
       "      <td>0</td>\n",
       "    </tr>\n",
       "    <tr>\n",
       "      <th>4</th>\n",
       "      <td>Meet after lunch la...</td>\n",
       "      <td>0</td>\n",
       "    </tr>\n",
       "    <tr>\n",
       "      <th>...</th>\n",
       "      <td>...</td>\n",
       "      <td>...</td>\n",
       "    </tr>\n",
       "    <tr>\n",
       "      <th>115959</th>\n",
       "      <td>I am jumping JUMPING!!!!</td>\n",
       "      <td>1</td>\n",
       "    </tr>\n",
       "    <tr>\n",
       "      <th>115960</th>\n",
       "      <td>What does all this amount to?</td>\n",
       "      <td>1</td>\n",
       "    </tr>\n",
       "    <tr>\n",
       "      <th>115961</th>\n",
       "      <td>A man went fishing one day.</td>\n",
       "      <td>1</td>\n",
       "    </tr>\n",
       "    <tr>\n",
       "      <th>115962</th>\n",
       "      <td>I’d do it again in a heartbeat!</td>\n",
       "      <td>1</td>\n",
       "    </tr>\n",
       "    <tr>\n",
       "      <th>115963</th>\n",
       "      <td>I’m not fond of wearing closed shoes either.</td>\n",
       "      <td>1</td>\n",
       "    </tr>\n",
       "  </tbody>\n",
       "</table>\n",
       "<p>115953 rows × 2 columns</p>\n",
       "</div>"
      ],
      "text/plain": [
       "                                                     text  label\n",
       "0                                   Bugis oso near wat...      0\n",
       "1       Go until jurong point, crazy.. Available only ...      0\n",
       "2          I dunno until when... Lets go learn pilates...      0\n",
       "3       Den only weekdays got special price... Haiz......      0\n",
       "4                                  Meet after lunch la...      0\n",
       "...                                                   ...    ...\n",
       "115959                           I am jumping JUMPING!!!!      1\n",
       "115960                      What does all this amount to?      1\n",
       "115961                        A man went fishing one day.      1\n",
       "115962                    I’d do it again in a heartbeat!      1\n",
       "115963       I’m not fond of wearing closed shoes either.      1\n",
       "\n",
       "[115953 rows x 2 columns]"
      ]
     },
     "execution_count": 77,
     "metadata": {},
     "output_type": "execute_result"
    }
   ],
   "source": [
    "data"
   ]
  },
  {
   "cell_type": "code",
   "execution_count": 78,
   "id": "3727b069",
   "metadata": {},
   "outputs": [
    {
     "data": {
      "text/plain": [
       "<AxesSubplot:>"
      ]
     },
     "execution_count": 78,
     "metadata": {},
     "output_type": "execute_result"
    },
    {
     "data": {
      "image/png": "[encoded data removed]",
      "text/plain": [
       "<Figure size 640x480 with 1 Axes>"
      ]
     },
     "metadata": {},
     "output_type": "display_data"
    }
   ],
   "source": [
    "# check target balance\n",
    "data['label'].value_counts(normalize = True).plot.bar()"
   ]
  },
  {
   "cell_type": "markdown",
   "id": "01d0afb9",
   "metadata": {},
   "source": [
    "# 文本预处理\n"
   ]
  },
  {
   "cell_type": "code",
   "execution_count": 79,
   "id": "14af6de8",
   "metadata": {},
   "outputs": [],
   "source": [
    "# text preprocessing\n",
    "# download nltk \n",
    "import nltk\n",
    "# nltk.download('all') # 只需跑一次\n"
   ]
  },
  {
   "cell_type": "code",
   "execution_count": 81,
   "id": "1976aec1",
   "metadata": {},
   "outputs": [],
   "source": [
    "import re\n",
    "from nltk.corpus import stopwords\n",
    "from nltk.stem import WordNetLemmatizer\n",
    "\n",
    "def clean_tokenise_text(text):\n",
    "    lemmatizer = WordNetLemmatizer()\n",
    "    r = re.sub('[^a-zA-Z]', ' ', text)\n",
    "    r = r.lower()\n",
    "    r = r.split()\n",
    "    # r = [word for word in r if word not in stopwords.words('english')]\n",
    "    r = [lemmatizer.lemmatize(word) for word in r]\n",
    "    r = ' '.join(r)\n",
    "    return r"
   ]
  },
  {
   "cell_type": "markdown",
   "id": "5b597459",
   "metadata": {},
   "source": [
    "# 训练-测试-拆分"
   ]
  },
  {
   "cell_type": "code",
   "execution_count": 82,
   "id": "81d5d465",
   "metadata": {},
   "outputs": [
    {
     "name": "stdout",
     "output_type": "stream",
     "text": [
      "Training Data : (77688,)\n",
      "Testing Data :  (38265,)\n"
     ]
    }
   ],
   "source": [
    "# Create Feature and Label sets\n",
    "X = data['text']\n",
    "y = data['label']\n",
    "# train test split (66% train - 33% test)\n",
    "from sklearn.model_selection import train_test_split\n",
    "X_train_uncleaned, X_test_uncleaned, y_train, y_test = train_test_split(X, y, test_size=0.33, random_state=123)\n",
    "\n",
    "print('Training Data :', X_train_uncleaned.shape)\n",
    "print('Testing Data : ', X_test_uncleaned.shape)"
   ]
  },
  {
   "attachments": {},
   "cell_type": "markdown",
   "id": "d8036722",
   "metadata": {},
   "source": [
    "### 提取 test.txt - 为 large language model 的 input"
   ]
  },
  {
   "cell_type": "code",
   "execution_count": 83,
   "id": "50c50779",
   "metadata": {},
   "outputs": [],
   "source": [
    "df_test = pd.DataFrame({'Text': X_test_uncleaned, 'Target_Label': y_test})\n",
    "df_test.to_csv('./data/test.txt', sep='\\t', index=False)"
   ]
  },
  {
   "cell_type": "code",
   "execution_count": 95,
   "id": "b79e4da1",
   "metadata": {},
   "outputs": [
    {
     "name": "stdout",
     "output_type": "stream",
     "text": [
      "<class 'pandas.core.series.Series'>\n",
      "84851          If he wants a place, he must jostle for it.\n",
      "11852    Boring. Bored. Waiting for david. I know he's ...\n",
      "34641                                          Haha 6pm lo\n",
      "87403    I told her last week that I was ready for her ...\n",
      "27616                                         Yep! Cya :-)\n",
      "Name: text, dtype: object\n"
     ]
    }
   ],
   "source": [
    "print(type(X_test_uncleaned))\n",
    "print(X_test_uncleaned.head())"
   ]
  },
  {
   "cell_type": "code",
   "execution_count": 86,
   "id": "e1dc8653",
   "metadata": {},
   "outputs": [
    {
     "name": "stdout",
     "output_type": "stream",
     "text": [
      "Training Data : (77688,)\n",
      "Testing Data :  (38265,)\n"
     ]
    }
   ],
   "source": [
    "# processed X train and X test - tokenisation\n",
    "X_train = X_train_uncleaned.apply(clean_tokenise_text)\n",
    "X_test = X_test_uncleaned.apply(clean_tokenise_text)\n",
    "\n",
    "# print(X_test_processed[:5])\n",
    "# print(type(X_test_processed))\n",
    "\n",
    "print('Training Data :', X_train.shape)\n",
    "print('Testing Data : ', X_test.shape)"
   ]
  },
  {
   "cell_type": "code",
   "execution_count": 94,
   "id": "94c72138",
   "metadata": {},
   "outputs": [
    {
     "name": "stdout",
     "output_type": "stream",
     "text": [
      "<class 'pandas.core.series.Series'>\n",
      "84851             if he want a place he must jostle for it\n",
      "11852    boring bored waiting for david i know he s gon...\n",
      "34641                                           haha pm lo\n",
      "87403    i told her last week that i wa ready for her t...\n",
      "27616                                              yep cya\n",
      "Name: text, dtype: object\n"
     ]
    }
   ],
   "source": [
    "print(type(X_test))\n",
    "print(X_test.head())"
   ]
  },
  {
   "cell_type": "markdown",
   "id": "32768566",
   "metadata": {},
   "source": [
    "# 特征提取\n"
   ]
  },
  {
   "cell_type": "code",
   "execution_count": 88,
   "id": "dfa9a6ab",
   "metadata": {},
   "outputs": [
    {
     "data": {
      "text/plain": [
       "(77688, 41208)"
      ]
     },
     "execution_count": 88,
     "metadata": {},
     "output_type": "execute_result"
    }
   ],
   "source": [
    "# Train Bag of Words model\n",
    "\n",
    "from sklearn.feature_extraction.text import CountVectorizer\n",
    "\n",
    "cv = CountVectorizer()\n",
    "\n",
    "X_train_cv = cv.fit_transform(X_train)\n",
    "\n",
    "X_train_cv.shape"
   ]
  },
  {
   "cell_type": "markdown",
   "id": "a634c2c6",
   "metadata": {},
   "source": [
    "# 模型训练与评估"
   ]
  },
  {
   "cell_type": "code",
   "execution_count": 90,
   "id": "3f1a85d4",
   "metadata": {},
   "outputs": [
    {
     "data": {
      "text/plain": [
       "array([1, 0, 0, ..., 1, 1, 0])"
      ]
     },
     "execution_count": 90,
     "metadata": {},
     "output_type": "execute_result"
    }
   ],
   "source": [
    "from sklearn.linear_model import LogisticRegression\n",
    "\n",
    "# 创建逻辑回归模型，增加 max_iter 参数\n",
    "lr = LogisticRegression(max_iter=15000)  # 适当增加max_iter的值\n",
    "\n",
    "# 在训练集上拟合模型\n",
    "lr.fit(X_train_cv, y_train)\n",
    "\n",
    "# transform X_test using CV\n",
    "X_test_cv = cv.transform(X_test)\n",
    "\n",
    "# 生成预测\n",
    "predictions = lr.predict(X_test_cv)\n",
    "\n",
    "# 显示预测结果\n",
    "predictions"
   ]
  },
  {
   "cell_type": "code",
   "execution_count": 91,
   "id": "3042f786",
   "metadata": {},
   "outputs": [
    {
     "data": {
      "text/html": [
       "<div>\n",
       "<style scoped>\n",
       "    .dataframe tbody tr th:only-of-type {\n",
       "        vertical-align: middle;\n",
       "    }\n",
       "\n",
       "    .dataframe tbody tr th {\n",
       "        vertical-align: top;\n",
       "    }\n",
       "\n",
       "    .dataframe thead th {\n",
       "        text-align: right;\n",
       "    }\n",
       "</style>\n",
       "<table border=\"1\" class=\"dataframe\">\n",
       "  <thead>\n",
       "    <tr style=\"text-align: right;\">\n",
       "      <th></th>\n",
       "      <th>1</th>\n",
       "      <th>0</th>\n",
       "    </tr>\n",
       "  </thead>\n",
       "  <tbody>\n",
       "    <tr>\n",
       "      <th>1</th>\n",
       "      <td>17018</td>\n",
       "      <td>1563</td>\n",
       "    </tr>\n",
       "    <tr>\n",
       "      <th>0</th>\n",
       "      <td>1413</td>\n",
       "      <td>18271</td>\n",
       "    </tr>\n",
       "  </tbody>\n",
       "</table>\n",
       "</div>"
      ],
      "text/plain": [
       "       1      0\n",
       "1  17018   1563\n",
       "0   1413  18271"
      ]
     },
     "execution_count": 91,
     "metadata": {},
     "output_type": "execute_result"
    }
   ],
   "source": [
    "# confusion matrix\n",
    "\n",
    "import pandas as pd\n",
    "\n",
    "from sklearn import metrics\n",
    "\n",
    "df = pd.DataFrame(metrics.confusion_matrix(y_test,predictions), index=['1','0'], columns=['1','0'])\n",
    "\n",
    "df"
   ]
  },
  {
   "cell_type": "code",
   "execution_count": 92,
   "id": "28476e7f",
   "metadata": {},
   "outputs": [
    {
     "name": "stdout",
     "output_type": "stream",
     "text": [
      "SVM Accuracy: 0.9189076179276101\n"
     ]
    }
   ],
   "source": [
    "from sklearn.svm import SVC\n",
    "from sklearn.metrics import accuracy_score\n",
    "\n",
    "# 创建SVM模型\n",
    "svm_model = SVC(kernel='linear')  # 使用线性核函数，也可以尝试其他核函数如'rbf'等\n",
    "\n",
    "# 在训练集上拟合模型\n",
    "svm_model.fit(X_train_cv, y_train)\n",
    "\n",
    "# transform X_test using CV\n",
    "X_test_cv_svm = cv.transform(X_test)\n",
    "\n",
    "# 生成SVM模型的预测\n",
    "svm_predictions = svm_model.predict(X_test_cv_svm)\n",
    "\n",
    "# 计算SVM模型的准确度\n",
    "svm_accuracy = accuracy_score(y_test, svm_predictions)\n",
    "print(f\"SVM Accuracy: {svm_accuracy}\")\n"
   ]
  },
  {
   "cell_type": "code",
   "execution_count": 93,
   "id": "db66b271",
   "metadata": {},
   "outputs": [
    {
     "name": "stdout",
     "output_type": "stream",
     "text": [
      "Naive Bayes Accuracy: 0.9104403501894682\n"
     ]
    }
   ],
   "source": [
    "from sklearn.naive_bayes import MultinomialNB\n",
    "from sklearn.metrics import accuracy_score\n",
    "\n",
    "# 创建Multinomial Naive Bayes模型\n",
    "nb_model = MultinomialNB()\n",
    "\n",
    "# 在训练集上拟合模型\n",
    "nb_model.fit(X_train_cv, y_train)\n",
    "\n",
    "# transform X_test using CV\n",
    "X_test_cv_nb = cv.transform(X_test)\n",
    "\n",
    "# 生成朴素贝叶斯模型的预测\n",
    "nb_predictions = nb_model.predict(X_test_cv_nb)\n",
    "\n",
    "# 计算朴素贝叶斯模型的准确度\n",
    "nb_accuracy = accuracy_score(y_test, nb_predictions)\n",
    "print(f\"Naive Bayes Accuracy: {nb_accuracy}\")\n"
   ]
  }
 ],
 "metadata": {
  "kernelspec": {
   "display_name": "Python 3 (ipykernel)",
   "language": "python",
   "name": "python3"
  },
  "language_info": {
   "codemirror_mode": {
    "name": "ipython",
    "version": 3
   },
   "file_extension": ".py",
   "mimetype": "text/x-python",
   "name": "python",
   "nbconvert_exporter": "python",
   "pygments_lexer": "ipython3",
   "version": "3.9.13"
  }
 },
 "nbformat": 4,
 "nbformat_minor": 5
}
