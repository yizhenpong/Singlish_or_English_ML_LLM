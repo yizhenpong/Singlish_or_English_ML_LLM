{
 "cells": [
  {
   "cell_type": "code",
   "execution_count": 4,
   "metadata": {},
   "outputs": [],
   "source": [
    "import json\n",
    "import pandas as pd\n",
    "from IPython.display import display\n",
    "\n",
    "# Load the JSON file\n",
    "with open('smsCorpus_en_2015.03.09_all.json', 'r') as file:\n",
    "    data = json.load(file)\n",
    "\n",
    "# Extract the text from each index under the \"message\" key\n",
    "messages = [item['text']['$'] for item in data['smsCorpus']['message']]\n",
    "\n",
    "# # Print the extracted messages\n",
    "# for index, message in enumerate(messages, start=1):\n",
    "#     print(f\"Index {index}: {message}\")\n",
    "\n",
    "# Create a DataFrame\n",
    "singlish_text = pd.DataFrame({'Index': range(1, len(messages) + 1), 'Message': messages})\n",
    "singlish_text.to_csv('singlish_eng_text.txt', sep='\\t', index=False)\n",
    "\n",
    "# Print the DataFrame (optional)\n",
    "# print(singlish_text)\n",
    "# print(singlish_text.head(50))\n",
    "\n",
    "\n",
    "# print(len(data['smsCorpus']['message']))"
   ]
  },
  {
   "cell_type": "code",
   "execution_count": 5,
   "metadata": {},
   "outputs": [],
   "source": [
    "singlish_text.to_csv('singlish_eng_text.txt', sep='\\t', index=False)"
   ]
  }
 ],
 "metadata": {
  "kernelspec": {
   "display_name": "Python 3",
   "language": "python",
   "name": "python3"
  },
  "language_info": {
   "codemirror_mode": {
    "name": "ipython",
    "version": 3
   },
   "file_extension": ".py",
   "mimetype": "text/x-python",
   "name": "python",
   "nbconvert_exporter": "python",
   "pygments_lexer": "ipython3",
   "version": "3.9.13"
  },
  "orig_nbformat": 4
 },
 "nbformat": 4,
 "nbformat_minor": 2
}
